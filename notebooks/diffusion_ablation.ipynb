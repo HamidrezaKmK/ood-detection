{
 "cells": [
  {
   "cell_type": "markdown",
   "metadata": {},
   "source": [
    "# Generating the AUC tables\n",
    "\n"
   ]
  },
  {
   "cell_type": "code",
   "execution_count": 11,
   "metadata": {},
   "outputs": [
    {
     "name": "stdout",
     "output_type": "stream",
     "text": [
      "The autoreload extension is already loaded. To reload it, use:\n",
      "  %reload_ext autoreload\n"
     ]
    }
   ],
   "source": [
    "%load_ext autoreload\n",
    "\n",
    "%autoreload 2\n",
    "from utils import parse_table, read_csv\n",
    "import pandas as pd\n",
    "import numpy as np\n",
    "\n",
    "from pretty import plot_kde, ColorTheme\n",
    "\n",
    "\n",
    "def get_scatter(in_distr, ood, type, all_tasks): \n",
    "    global likelihood_generated, lid_generated\n",
    "    global likelihood_in, lid_in\n",
    "    global likelihood_ood, lid_ood\n",
    "    print(all_tasks.keys())\n",
    "    print(all_tasks[type].keys())\n",
    "    in_vs_out = all_tasks[type][in_distr][ood]\n",
    "    likelihood_generated = in_vs_out[in_vs_out['name'] == 'generated']['log-likelihood'].values\n",
    "    lid_generated = in_vs_out[in_vs_out['name'] == 'generated']['LID'].values\n",
    "    likelihood_in = in_vs_out[in_vs_out['name'] == 'test']['log-likelihood'].values\n",
    "    lid_in = in_vs_out[in_vs_out['name'] == 'test']['LID'].values\n",
    "    likelihood_ood = in_vs_out[in_vs_out['name'] == 'ood']['log-likelihood'].values\n",
    "    lid_ood = in_vs_out[in_vs_out['name'] == 'ood']['LID'].values\n",
    "\n",
    "print_mapping = {\n",
    "    'fashion-mnist': 'FMNIST',\n",
    "    'mnist': 'MNIST',\n",
    "    'emnist': 'EMNIST',\n",
    "    'omniglot': 'Omniglot',\n",
    "    'celeba-small': 'CelebA',\n",
    "    'svhn': 'SVHN',\n",
    "    'cifar10': 'CIFAR10',\n",
    "    'cifar100': 'CIFAR100',\n",
    "    'tiny-imagenet': 'Tiny',\n",
    "}\n"
   ]
  },
  {
   "cell_type": "code",
   "execution_count": 12,
   "metadata": {},
   "outputs": [],
   "source": [
    "from roc_analysis import get_roc_graph, get_convex_hull, get_auc\n",
    "from tqdm import tqdm\n",
    "\n",
    "def generate_table(compute_limit, all_tasks, verbose=1):\n",
    "    np.random.seed(111)\n",
    "    latex_table = \"\"\"\n",
    "    \\\\begin{tabularx}{\\\\textwidth}{l*{4}{Y}}\n",
    "    \\\\toprule\n",
    "    OOD Task Type & \\\\multicolumn{2}{c}{$A$-gen (vs) $B$}$^\\\\mathsection$ & \\\\multicolumn{2}{c}{$A$ (vs) $B$}$^\\dagger$ \\\\\\\\\n",
    "    \\\\cmidrule(r){2-3} \\\\cmidrule(lr){4-5}\n",
    "    \\\\leftcell{Dataset Pair \\\\\\\\$A$ (and) $B$}&  \\makecell{{\\scriptsize (AUC-ROC)} \\\\\\\\ Na\\\\\"ive Likelihood} &  \\makecell{{\\\\scriptsize (AUC-ROC)} \\\\\\\\ LID OOD (Ours)}&  \\\\makecell{{\\\\scriptsize (AUC-ROC)} \\\\\\\\ Na\\\\\"ive Likelihood} &  \\\\makecell{{\\\\scriptsize (AUC-ROC)} \\\\\\\\ LID OOD (Ours)}  \\\\\\\\\n",
    "    \\\\midrule\n",
    "    \"\"\"\n",
    "\n",
    "    \n",
    "    for iii, type in enumerate(['grayscale', 'rgb']):\n",
    "\n",
    "        if verbose > 1:\n",
    "            print(\"---------- Grayscale ----------\" if type == 'grayscale' else \"---------- RGB ----------\")\n",
    "        pairs = []\n",
    "        for in_distr in all_tasks[type].keys():\n",
    "            for ood in all_tasks[type].keys():\n",
    "                if in_distr != ood:\n",
    "                    pairs.append((in_distr, ood))\n",
    "        rng = pairs\n",
    "        if verbose == 1:\n",
    "            rng = tqdm(rng, desc=\"Grayscale data pairs\")\n",
    "        for in_distr, ood in rng:\n",
    "            if verbose > 1:\n",
    "                print(f\"\\n\\n== {in_distr} vs {ood} ==\")\n",
    "            get_scatter(in_distr, ood, type, all_tasks)\n",
    "            latex_table += f\"{{\\\\scriptsize {print_mapping[in_distr]} (and) {print_mapping[ood]}}} & \"\n",
    "            x_naive, y_naive = get_roc_graph(\n",
    "                pos_x = likelihood_generated,\n",
    "                neg_x = likelihood_ood,\n",
    "                verbose=0,\n",
    "            )\n",
    "            x_curve, y_curve = get_convex_hull(x_naive, y_naive)\n",
    "            naive_auc = get_auc(x_curve, y_curve)\n",
    "            formatted_auc1 = \"{:.3f}\".format(naive_auc)\n",
    "            if verbose > 1:\n",
    "                print(f\"(Generated) Naive likelihood AUC = {formatted_auc1}\")\n",
    "            x_ours, y_ours = get_roc_graph(\n",
    "                pos_x = likelihood_generated,\n",
    "                pos_y = lid_generated,\n",
    "                neg_x = likelihood_ood,\n",
    "                neg_y = lid_ood,\n",
    "                compute_limit=compute_limit,\n",
    "                verbose=0,\n",
    "            )\n",
    "            x_curve, y_curve = get_convex_hull(x_ours, y_ours)\n",
    "            our_auc = max(naive_auc, get_auc(x_curve, y_curve))\n",
    "            formatted_auc2 = \"{:.3f}\".format(our_auc)\n",
    "            improvement = (our_auc - naive_auc)/naive_auc * 100\n",
    "            if improvement > 10:\n",
    "                latex_table += f\"$\\\\mathbf{{{formatted_auc1}}}$ & $\\\\mathbf{{{formatted_auc2}}}$ &\"\n",
    "            else:\n",
    "                latex_table += f\"${formatted_auc1}$ & ${formatted_auc2}$ &\"\n",
    "            if verbose > 1:\n",
    "                print(\"(Generated) LID-OOD AUC = {:.3f}\".format(our_auc))\n",
    "                \n",
    "                \n",
    "            x_naive, y_naive = get_roc_graph(\n",
    "                pos_x = likelihood_in,\n",
    "                neg_x = likelihood_ood,\n",
    "                verbose=0,\n",
    "            )\n",
    "            x_curve, y_curve = get_convex_hull(x_naive, y_naive)\n",
    "            naive_auc = get_auc(x_curve, y_curve)\n",
    "            formatted_auc1 = \"{:.3f}\".format(naive_auc)\n",
    "            if verbose > 1:\n",
    "                print(f\"Naive likelihood AUC = {formatted_auc1}\")\n",
    "            x_ours, y_ours = get_roc_graph(\n",
    "                pos_x = likelihood_in,\n",
    "                pos_y = lid_in,\n",
    "                neg_x = likelihood_ood,\n",
    "                neg_y = lid_ood,\n",
    "                compute_limit=compute_limit,\n",
    "                verbose=0,\n",
    "            )\n",
    "            x_curve, y_curve = get_convex_hull(x_ours, y_ours)\n",
    "            \n",
    "            our_auc = max(naive_auc, get_auc(x_curve, y_curve))\n",
    "            formatted_auc2 = \"{:.3f}\".format(our_auc)\n",
    "            improvement = (our_auc - naive_auc)/naive_auc * 100\n",
    "            if improvement > 10:\n",
    "                latex_table += f\"$\\\\mathbf{{{formatted_auc1}}}$ & $\\\\mathbf{{{formatted_auc2}}}$ \\\\\\\\ \\n\"\n",
    "            else:\n",
    "                latex_table += f\"${formatted_auc1}$ & ${formatted_auc2}$ \\\\\\\\ \\n\"\n",
    "            if verbose > 1:\n",
    "                print(\"(Generated) LID-OOD AUC = {:.3f}\".format(our_auc))\n",
    "                \n",
    "        if iii == 0:\n",
    "            latex_table += '\\\\midrule \\n\\n'\n",
    "\n",
    "    \n",
    "    latex_table += \"\"\"\n",
    "    \\\\bottomrule\n",
    "    \\\\end{tabularx}\n",
    "    \"\"\"          \n",
    "    return latex_table"
   ]
  },
  {
   "cell_type": "code",
   "execution_count": 13,
   "metadata": {},
   "outputs": [
    {
     "name": "stderr",
     "output_type": "stream",
     "text": [
      "3/5: 100%|██████████| 4/4 [00:03<00:00,  1.28it/s]\n",
      "5/7: 100%|██████████| 5/5 [00:14<00:00,  2.98s/it]\n"
     ]
    }
   ],
   "source": [
    "df = read_csv('grayscale_LID_vs_likelihood_diffusion_lpca.csv')\n",
    "all_tasks_grayscale = parse_table(df)\n",
    "df = read_csv('rgb_LID_vs_likelihood_diffusion_lpca.csv')\n",
    "all_tasks_rgb = parse_table(df)\n",
    "\n",
    "all_tasks = {\n",
    "    'grayscale': all_tasks_grayscale,\n",
    "    'rgb': all_tasks_rgb,\n",
    "}"
   ]
  },
  {
   "cell_type": "code",
   "execution_count": 14,
   "metadata": {},
   "outputs": [
    {
     "name": "stdout",
     "output_type": "stream",
     "text": [
      "---------- Grayscale ----------\n",
      "\n",
      "\n",
      "== mnist vs mnist ==\n",
      "dict_keys(['grayscale', 'rgb'])\n",
      "dict_keys(['mnist', 'emnist', 'fashion-mnist', 'omniglot'])\n"
     ]
    },
    {
     "ename": "KeyError",
     "evalue": "'mnist'",
     "output_type": "error",
     "traceback": [
      "\u001b[0;31m---------------------------------------------------------------------------\u001b[0m",
      "\u001b[0;31mKeyError\u001b[0m                                  Traceback (most recent call last)",
      "Cell \u001b[0;32mIn[14], line 1\u001b[0m\n\u001b[0;32m----> 1\u001b[0m latex_table \u001b[38;5;241m=\u001b[39m \u001b[43mgenerate_table\u001b[49m\u001b[43m(\u001b[49m\u001b[38;5;241;43m100000\u001b[39;49m\u001b[43m,\u001b[49m\u001b[43m \u001b[49m\u001b[43mall_tasks\u001b[49m\u001b[38;5;241;43m=\u001b[39;49m\u001b[43mall_tasks\u001b[49m\u001b[43m,\u001b[49m\u001b[43m \u001b[49m\u001b[43mverbose\u001b[49m\u001b[38;5;241;43m=\u001b[39;49m\u001b[38;5;241;43m2\u001b[39;49m\u001b[43m)\u001b[49m\n\u001b[1;32m      2\u001b[0m \u001b[38;5;28;01mwith\u001b[39;00m \u001b[38;5;28mopen\u001b[39m(\u001b[38;5;124m\"\u001b[39m\u001b[38;5;124mgenerated_tabulars/all_boosting_diffusion.tex\u001b[39m\u001b[38;5;124m\"\u001b[39m, \u001b[38;5;124m'\u001b[39m\u001b[38;5;124mw\u001b[39m\u001b[38;5;124m'\u001b[39m) \u001b[38;5;28;01mas\u001b[39;00m f:\n\u001b[1;32m      3\u001b[0m     f\u001b[38;5;241m.\u001b[39mwrite(latex_table)\n",
      "Cell \u001b[0;32mIn[12], line 30\u001b[0m, in \u001b[0;36mgenerate_table\u001b[0;34m(compute_limit, all_tasks, verbose)\u001b[0m\n\u001b[1;32m     28\u001b[0m \u001b[38;5;28;01mif\u001b[39;00m verbose \u001b[38;5;241m>\u001b[39m \u001b[38;5;241m1\u001b[39m:\n\u001b[1;32m     29\u001b[0m     \u001b[38;5;28mprint\u001b[39m(\u001b[38;5;124mf\u001b[39m\u001b[38;5;124m\"\u001b[39m\u001b[38;5;130;01m\\n\u001b[39;00m\u001b[38;5;130;01m\\n\u001b[39;00m\u001b[38;5;124m== \u001b[39m\u001b[38;5;132;01m{\u001b[39;00min_distr\u001b[38;5;132;01m}\u001b[39;00m\u001b[38;5;124m vs \u001b[39m\u001b[38;5;132;01m{\u001b[39;00mood\u001b[38;5;132;01m}\u001b[39;00m\u001b[38;5;124m ==\u001b[39m\u001b[38;5;124m\"\u001b[39m)\n\u001b[0;32m---> 30\u001b[0m \u001b[43mget_scatter\u001b[49m\u001b[43m(\u001b[49m\u001b[43min_distr\u001b[49m\u001b[43m,\u001b[49m\u001b[43m \u001b[49m\u001b[43mood\u001b[49m\u001b[43m,\u001b[49m\u001b[43m \u001b[49m\u001b[38;5;28;43mtype\u001b[39;49m\u001b[43m,\u001b[49m\u001b[43m \u001b[49m\u001b[43mall_tasks\u001b[49m\u001b[43m)\u001b[49m\n\u001b[1;32m     31\u001b[0m latex_table \u001b[38;5;241m+\u001b[39m\u001b[38;5;241m=\u001b[39m \u001b[38;5;124mf\u001b[39m\u001b[38;5;124m\"\u001b[39m\u001b[38;5;130;01m{{\u001b[39;00m\u001b[38;5;130;01m\\\\\u001b[39;00m\u001b[38;5;124mscriptsize \u001b[39m\u001b[38;5;132;01m{\u001b[39;00mprint_mapping[in_distr]\u001b[38;5;132;01m}\u001b[39;00m\u001b[38;5;124m (and) \u001b[39m\u001b[38;5;132;01m{\u001b[39;00mprint_mapping[ood]\u001b[38;5;132;01m}\u001b[39;00m\u001b[38;5;130;01m}}\u001b[39;00m\u001b[38;5;124m & \u001b[39m\u001b[38;5;124m\"\u001b[39m\n\u001b[1;32m     32\u001b[0m x_naive, y_naive \u001b[38;5;241m=\u001b[39m get_roc_graph(\n\u001b[1;32m     33\u001b[0m     pos_x \u001b[38;5;241m=\u001b[39m likelihood_generated,\n\u001b[1;32m     34\u001b[0m     neg_x \u001b[38;5;241m=\u001b[39m likelihood_ood,\n\u001b[1;32m     35\u001b[0m     verbose\u001b[38;5;241m=\u001b[39m\u001b[38;5;241m0\u001b[39m,\n\u001b[1;32m     36\u001b[0m )\n",
      "Cell \u001b[0;32mIn[11], line 17\u001b[0m, in \u001b[0;36mget_scatter\u001b[0;34m(in_distr, ood, type, all_tasks)\u001b[0m\n\u001b[1;32m     15\u001b[0m \u001b[38;5;28mprint\u001b[39m(all_tasks\u001b[38;5;241m.\u001b[39mkeys())\n\u001b[1;32m     16\u001b[0m \u001b[38;5;28mprint\u001b[39m(all_tasks[\u001b[38;5;28mtype\u001b[39m]\u001b[38;5;241m.\u001b[39mkeys())\n\u001b[0;32m---> 17\u001b[0m in_vs_out \u001b[38;5;241m=\u001b[39m \u001b[43mall_tasks\u001b[49m\u001b[43m[\u001b[49m\u001b[38;5;28;43mtype\u001b[39;49m\u001b[43m]\u001b[49m\u001b[43m[\u001b[49m\u001b[43min_distr\u001b[49m\u001b[43m]\u001b[49m\u001b[43m[\u001b[49m\u001b[43mood\u001b[49m\u001b[43m]\u001b[49m\n\u001b[1;32m     18\u001b[0m likelihood_generated \u001b[38;5;241m=\u001b[39m in_vs_out[in_vs_out[\u001b[38;5;124m'\u001b[39m\u001b[38;5;124mname\u001b[39m\u001b[38;5;124m'\u001b[39m] \u001b[38;5;241m==\u001b[39m \u001b[38;5;124m'\u001b[39m\u001b[38;5;124mgenerated\u001b[39m\u001b[38;5;124m'\u001b[39m][\u001b[38;5;124m'\u001b[39m\u001b[38;5;124mlog-likelihood\u001b[39m\u001b[38;5;124m'\u001b[39m]\u001b[38;5;241m.\u001b[39mvalues\n\u001b[1;32m     19\u001b[0m lid_generated \u001b[38;5;241m=\u001b[39m in_vs_out[in_vs_out[\u001b[38;5;124m'\u001b[39m\u001b[38;5;124mname\u001b[39m\u001b[38;5;124m'\u001b[39m] \u001b[38;5;241m==\u001b[39m \u001b[38;5;124m'\u001b[39m\u001b[38;5;124mgenerated\u001b[39m\u001b[38;5;124m'\u001b[39m][\u001b[38;5;124m'\u001b[39m\u001b[38;5;124mLID\u001b[39m\u001b[38;5;124m'\u001b[39m]\u001b[38;5;241m.\u001b[39mvalues\n",
      "\u001b[0;31mKeyError\u001b[0m: 'mnist'"
     ]
    }
   ],
   "source": [
    "\n",
    "\n",
    "latex_table = generate_table(100000, all_tasks=all_tasks, verbose=2)\n",
    "with open(\"generated_tabulars/all_boosting_diffusion.tex\", 'w') as f:\n",
    "    f.write(latex_table)\n",
    "    "
   ]
  },
  {
   "cell_type": "code",
   "execution_count": null,
   "metadata": {},
   "outputs": [],
   "source": []
  }
 ],
 "metadata": {
  "kernelspec": {
   "display_name": "ood-detection",
   "language": "python",
   "name": "python3"
  },
  "language_info": {
   "codemirror_mode": {
    "name": "ipython",
    "version": 3
   },
   "file_extension": ".py",
   "mimetype": "text/x-python",
   "name": "python",
   "nbconvert_exporter": "python",
   "pygments_lexer": "ipython3",
   "version": "3.10.13"
  }
 },
 "nbformat": 4,
 "nbformat_minor": 2
}
